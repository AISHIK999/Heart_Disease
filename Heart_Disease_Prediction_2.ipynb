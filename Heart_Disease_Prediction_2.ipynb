{
 "nbformat": 4,
 "nbformat_minor": 0,
 "metadata": {
  "colab": {
   "provenance": []
  },
  "kernelspec": {
   "name": "python3",
   "language": "python",
   "display_name": "Python 3 (ipykernel)"
  },
  "language_info": {
   "name": "python"
  }
 },
 "cells": [
  {
   "cell_type": "code",
   "execution_count": 1,
   "metadata": {
    "id": "OsOcL94l-8e4",
    "ExecuteTime": {
     "start_time": "2023-04-20T21:06:18.626785Z",
     "end_time": "2023-04-20T21:06:20.020352Z"
    }
   },
   "outputs": [],
   "source": [
    "import numpy as np\n",
    "import pandas as pd\n",
    "from sklearn.model_selection import train_test_split\n",
    "from sklearn.linear_model import LogisticRegression\n",
    "from sklearn.metrics import accuracy_score\n",
    "from sklearn import tree\n",
    "from sklearn.ensemble import RandomForestClassifier"
   ]
  },
  {
   "cell_type": "code",
   "source": [
    "# loading the csv data to a Pandas DataFrame\n",
    "heart_data = pd.read_csv('heart_disease_data.csv')"
   ],
   "metadata": {
    "id": "jU-LiAjG_Uav",
    "ExecuteTime": {
     "start_time": "2023-04-20T21:06:20.027565Z",
     "end_time": "2023-04-20T21:06:20.037192Z"
    }
   },
   "execution_count": 2,
   "outputs": []
  },
  {
   "cell_type": "code",
   "source": [
    "# print first 5 rows of the dataset\n",
    "heart_data.head()"
   ],
   "metadata": {
    "colab": {
     "base_uri": "https://localhost:8080/",
     "height": 206
    },
    "id": "45qashpN_aez",
    "outputId": "42fb3343-8285-409d-cd39-02bd7fbda2e5",
    "ExecuteTime": {
     "start_time": "2023-04-20T21:06:20.048012Z",
     "end_time": "2023-04-20T21:06:20.075255Z"
    }
   },
   "execution_count": 3,
   "outputs": [
    {
     "data": {
      "text/plain": "   age  sex  cp  trestbps  chol  fbs  restecg  thalach  exang  oldpeak  slope   \n0   52    1   0       125   212    0        1      168      0      1.0      2  \\\n1   53    1   0       140   203    1        0      155      1      3.1      0   \n2   70    1   0       145   174    0        1      125      1      2.6      0   \n3   61    1   0       148   203    0        1      161      0      0.0      2   \n4   62    0   0       138   294    1        1      106      0      1.9      1   \n\n   ca  thal  target  \n0   2     3       0  \n1   0     3       0  \n2   0     3       0  \n3   1     3       0  \n4   3     2       0  ",
      "text/html": "<div>\n<style scoped>\n    .dataframe tbody tr th:only-of-type {\n        vertical-align: middle;\n    }\n\n    .dataframe tbody tr th {\n        vertical-align: top;\n    }\n\n    .dataframe thead th {\n        text-align: right;\n    }\n</style>\n<table border=\"1\" class=\"dataframe\">\n  <thead>\n    <tr style=\"text-align: right;\">\n      <th></th>\n      <th>age</th>\n      <th>sex</th>\n      <th>cp</th>\n      <th>trestbps</th>\n      <th>chol</th>\n      <th>fbs</th>\n      <th>restecg</th>\n      <th>thalach</th>\n      <th>exang</th>\n      <th>oldpeak</th>\n      <th>slope</th>\n      <th>ca</th>\n      <th>thal</th>\n      <th>target</th>\n    </tr>\n  </thead>\n  <tbody>\n    <tr>\n      <th>0</th>\n      <td>52</td>\n      <td>1</td>\n      <td>0</td>\n      <td>125</td>\n      <td>212</td>\n      <td>0</td>\n      <td>1</td>\n      <td>168</td>\n      <td>0</td>\n      <td>1.0</td>\n      <td>2</td>\n      <td>2</td>\n      <td>3</td>\n      <td>0</td>\n    </tr>\n    <tr>\n      <th>1</th>\n      <td>53</td>\n      <td>1</td>\n      <td>0</td>\n      <td>140</td>\n      <td>203</td>\n      <td>1</td>\n      <td>0</td>\n      <td>155</td>\n      <td>1</td>\n      <td>3.1</td>\n      <td>0</td>\n      <td>0</td>\n      <td>3</td>\n      <td>0</td>\n    </tr>\n    <tr>\n      <th>2</th>\n      <td>70</td>\n      <td>1</td>\n      <td>0</td>\n      <td>145</td>\n      <td>174</td>\n      <td>0</td>\n      <td>1</td>\n      <td>125</td>\n      <td>1</td>\n      <td>2.6</td>\n      <td>0</td>\n      <td>0</td>\n      <td>3</td>\n      <td>0</td>\n    </tr>\n    <tr>\n      <th>3</th>\n      <td>61</td>\n      <td>1</td>\n      <td>0</td>\n      <td>148</td>\n      <td>203</td>\n      <td>0</td>\n      <td>1</td>\n      <td>161</td>\n      <td>0</td>\n      <td>0.0</td>\n      <td>2</td>\n      <td>1</td>\n      <td>3</td>\n      <td>0</td>\n    </tr>\n    <tr>\n      <th>4</th>\n      <td>62</td>\n      <td>0</td>\n      <td>0</td>\n      <td>138</td>\n      <td>294</td>\n      <td>1</td>\n      <td>1</td>\n      <td>106</td>\n      <td>0</td>\n      <td>1.9</td>\n      <td>1</td>\n      <td>3</td>\n      <td>2</td>\n      <td>0</td>\n    </tr>\n  </tbody>\n</table>\n</div>"
     },
     "execution_count": 3,
     "metadata": {},
     "output_type": "execute_result"
    }
   ]
  },
  {
   "cell_type": "code",
   "source": [
    "# print last 5 rows of the dataset\n",
    "heart_data.tail()"
   ],
   "metadata": {
    "colab": {
     "base_uri": "https://localhost:8080/",
     "height": 206
    },
    "id": "RYUOX95A_am0",
    "outputId": "44acb1c6-cfd4-4554-cba6-6d2b7e7f3e82",
    "ExecuteTime": {
     "start_time": "2023-04-20T21:06:20.070115Z",
     "end_time": "2023-04-20T21:06:20.095036Z"
    }
   },
   "execution_count": 4,
   "outputs": [
    {
     "data": {
      "text/plain": "      age  sex  cp  trestbps  chol  fbs  restecg  thalach  exang  oldpeak   \n1020   59    1   1       140   221    0        1      164      1      0.0  \\\n1021   60    1   0       125   258    0        0      141      1      2.8   \n1022   47    1   0       110   275    0        0      118      1      1.0   \n1023   50    0   0       110   254    0        0      159      0      0.0   \n1024   54    1   0       120   188    0        1      113      0      1.4   \n\n      slope  ca  thal  target  \n1020      2   0     2       1  \n1021      1   1     3       0  \n1022      1   1     2       0  \n1023      2   0     2       1  \n1024      1   1     3       0  ",
      "text/html": "<div>\n<style scoped>\n    .dataframe tbody tr th:only-of-type {\n        vertical-align: middle;\n    }\n\n    .dataframe tbody tr th {\n        vertical-align: top;\n    }\n\n    .dataframe thead th {\n        text-align: right;\n    }\n</style>\n<table border=\"1\" class=\"dataframe\">\n  <thead>\n    <tr style=\"text-align: right;\">\n      <th></th>\n      <th>age</th>\n      <th>sex</th>\n      <th>cp</th>\n      <th>trestbps</th>\n      <th>chol</th>\n      <th>fbs</th>\n      <th>restecg</th>\n      <th>thalach</th>\n      <th>exang</th>\n      <th>oldpeak</th>\n      <th>slope</th>\n      <th>ca</th>\n      <th>thal</th>\n      <th>target</th>\n    </tr>\n  </thead>\n  <tbody>\n    <tr>\n      <th>1020</th>\n      <td>59</td>\n      <td>1</td>\n      <td>1</td>\n      <td>140</td>\n      <td>221</td>\n      <td>0</td>\n      <td>1</td>\n      <td>164</td>\n      <td>1</td>\n      <td>0.0</td>\n      <td>2</td>\n      <td>0</td>\n      <td>2</td>\n      <td>1</td>\n    </tr>\n    <tr>\n      <th>1021</th>\n      <td>60</td>\n      <td>1</td>\n      <td>0</td>\n      <td>125</td>\n      <td>258</td>\n      <td>0</td>\n      <td>0</td>\n      <td>141</td>\n      <td>1</td>\n      <td>2.8</td>\n      <td>1</td>\n      <td>1</td>\n      <td>3</td>\n      <td>0</td>\n    </tr>\n    <tr>\n      <th>1022</th>\n      <td>47</td>\n      <td>1</td>\n      <td>0</td>\n      <td>110</td>\n      <td>275</td>\n      <td>0</td>\n      <td>0</td>\n      <td>118</td>\n      <td>1</td>\n      <td>1.0</td>\n      <td>1</td>\n      <td>1</td>\n      <td>2</td>\n      <td>0</td>\n    </tr>\n    <tr>\n      <th>1023</th>\n      <td>50</td>\n      <td>0</td>\n      <td>0</td>\n      <td>110</td>\n      <td>254</td>\n      <td>0</td>\n      <td>0</td>\n      <td>159</td>\n      <td>0</td>\n      <td>0.0</td>\n      <td>2</td>\n      <td>0</td>\n      <td>2</td>\n      <td>1</td>\n    </tr>\n    <tr>\n      <th>1024</th>\n      <td>54</td>\n      <td>1</td>\n      <td>0</td>\n      <td>120</td>\n      <td>188</td>\n      <td>0</td>\n      <td>1</td>\n      <td>113</td>\n      <td>0</td>\n      <td>1.4</td>\n      <td>1</td>\n      <td>1</td>\n      <td>3</td>\n      <td>0</td>\n    </tr>\n  </tbody>\n</table>\n</div>"
     },
     "execution_count": 4,
     "metadata": {},
     "output_type": "execute_result"
    }
   ]
  },
  {
   "cell_type": "code",
   "source": [
    "# number of rows and columns in the dataset\n",
    "heart_data.shape"
   ],
   "metadata": {
    "colab": {
     "base_uri": "https://localhost:8080/"
    },
    "id": "U7HTQCJvAPQL",
    "outputId": "a1ac5d4c-c0f6-463a-e637-fd724340f0a8",
    "ExecuteTime": {
     "start_time": "2023-04-20T21:06:20.099081Z",
     "end_time": "2023-04-20T21:06:20.182757Z"
    }
   },
   "execution_count": 5,
   "outputs": [
    {
     "data": {
      "text/plain": "(1025, 14)"
     },
     "execution_count": 5,
     "metadata": {},
     "output_type": "execute_result"
    }
   ]
  },
  {
   "cell_type": "code",
   "source": [
    "# getting some info about the data\n",
    "heart_data.info()"
   ],
   "metadata": {
    "colab": {
     "base_uri": "https://localhost:8080/"
    },
    "id": "ubkTBgYtAPSm",
    "outputId": "701108ca-186f-4d59-c837-e78c323b13db",
    "ExecuteTime": {
     "start_time": "2023-04-20T21:06:20.127084Z",
     "end_time": "2023-04-20T21:06:20.359299Z"
    }
   },
   "execution_count": 6,
   "outputs": [
    {
     "name": "stdout",
     "output_type": "stream",
     "text": [
      "<class 'pandas.core.frame.DataFrame'>\n",
      "RangeIndex: 1025 entries, 0 to 1024\n",
      "Data columns (total 14 columns):\n",
      " #   Column    Non-Null Count  Dtype  \n",
      "---  ------    --------------  -----  \n",
      " 0   age       1025 non-null   int64  \n",
      " 1   sex       1025 non-null   int64  \n",
      " 2   cp        1025 non-null   int64  \n",
      " 3   trestbps  1025 non-null   int64  \n",
      " 4   chol      1025 non-null   int64  \n",
      " 5   fbs       1025 non-null   int64  \n",
      " 6   restecg   1025 non-null   int64  \n",
      " 7   thalach   1025 non-null   int64  \n",
      " 8   exang     1025 non-null   int64  \n",
      " 9   oldpeak   1025 non-null   float64\n",
      " 10  slope     1025 non-null   int64  \n",
      " 11  ca        1025 non-null   int64  \n",
      " 12  thal      1025 non-null   int64  \n",
      " 13  target    1025 non-null   int64  \n",
      "dtypes: float64(1), int64(13)\n",
      "memory usage: 112.2 KB\n"
     ]
    }
   ]
  },
  {
   "cell_type": "code",
   "source": [
    "# checking for missing values\n",
    "heart_data.isnull().sum()"
   ],
   "metadata": {
    "colab": {
     "base_uri": "https://localhost:8080/"
    },
    "id": "7nMyglbMAPVY",
    "outputId": "f663402e-385e-4cc9-c017-ffc2536cf21c",
    "ExecuteTime": {
     "start_time": "2023-04-20T21:06:20.141144Z",
     "end_time": "2023-04-20T21:06:20.954089Z"
    }
   },
   "execution_count": 7,
   "outputs": [
    {
     "data": {
      "text/plain": "age         0\nsex         0\ncp          0\ntrestbps    0\nchol        0\nfbs         0\nrestecg     0\nthalach     0\nexang       0\noldpeak     0\nslope       0\nca          0\nthal        0\ntarget      0\ndtype: int64"
     },
     "execution_count": 7,
     "metadata": {},
     "output_type": "execute_result"
    }
   ]
  },
  {
   "cell_type": "code",
   "source": [
    "# statistical measures about the data\n",
    "heart_data.describe()"
   ],
   "metadata": {
    "colab": {
     "base_uri": "https://localhost:8080/",
     "height": 364
    },
    "id": "8jXWAfyRAPX6",
    "outputId": "2a278385-2b1c-4427-d278-71a287325bf4",
    "ExecuteTime": {
     "start_time": "2023-04-20T21:06:20.183506Z",
     "end_time": "2023-04-20T21:06:20.954995Z"
    }
   },
   "execution_count": 8,
   "outputs": [
    {
     "data": {
      "text/plain": "               age          sex           cp     trestbps        chol   \ncount  1025.000000  1025.000000  1025.000000  1025.000000  1025.00000  \\\nmean     54.434146     0.695610     0.942439   131.611707   246.00000   \nstd       9.072290     0.460373     1.029641    17.516718    51.59251   \nmin      29.000000     0.000000     0.000000    94.000000   126.00000   \n25%      48.000000     0.000000     0.000000   120.000000   211.00000   \n50%      56.000000     1.000000     1.000000   130.000000   240.00000   \n75%      61.000000     1.000000     2.000000   140.000000   275.00000   \nmax      77.000000     1.000000     3.000000   200.000000   564.00000   \n\n               fbs      restecg      thalach        exang      oldpeak   \ncount  1025.000000  1025.000000  1025.000000  1025.000000  1025.000000  \\\nmean      0.149268     0.529756   149.114146     0.336585     1.071512   \nstd       0.356527     0.527878    23.005724     0.472772     1.175053   \nmin       0.000000     0.000000    71.000000     0.000000     0.000000   \n25%       0.000000     0.000000   132.000000     0.000000     0.000000   \n50%       0.000000     1.000000   152.000000     0.000000     0.800000   \n75%       0.000000     1.000000   166.000000     1.000000     1.800000   \nmax       1.000000     2.000000   202.000000     1.000000     6.200000   \n\n             slope           ca         thal       target  \ncount  1025.000000  1025.000000  1025.000000  1025.000000  \nmean      1.385366     0.754146     2.323902     0.513171  \nstd       0.617755     1.030798     0.620660     0.500070  \nmin       0.000000     0.000000     0.000000     0.000000  \n25%       1.000000     0.000000     2.000000     0.000000  \n50%       1.000000     0.000000     2.000000     1.000000  \n75%       2.000000     1.000000     3.000000     1.000000  \nmax       2.000000     4.000000     3.000000     1.000000  ",
      "text/html": "<div>\n<style scoped>\n    .dataframe tbody tr th:only-of-type {\n        vertical-align: middle;\n    }\n\n    .dataframe tbody tr th {\n        vertical-align: top;\n    }\n\n    .dataframe thead th {\n        text-align: right;\n    }\n</style>\n<table border=\"1\" class=\"dataframe\">\n  <thead>\n    <tr style=\"text-align: right;\">\n      <th></th>\n      <th>age</th>\n      <th>sex</th>\n      <th>cp</th>\n      <th>trestbps</th>\n      <th>chol</th>\n      <th>fbs</th>\n      <th>restecg</th>\n      <th>thalach</th>\n      <th>exang</th>\n      <th>oldpeak</th>\n      <th>slope</th>\n      <th>ca</th>\n      <th>thal</th>\n      <th>target</th>\n    </tr>\n  </thead>\n  <tbody>\n    <tr>\n      <th>count</th>\n      <td>1025.000000</td>\n      <td>1025.000000</td>\n      <td>1025.000000</td>\n      <td>1025.000000</td>\n      <td>1025.00000</td>\n      <td>1025.000000</td>\n      <td>1025.000000</td>\n      <td>1025.000000</td>\n      <td>1025.000000</td>\n      <td>1025.000000</td>\n      <td>1025.000000</td>\n      <td>1025.000000</td>\n      <td>1025.000000</td>\n      <td>1025.000000</td>\n    </tr>\n    <tr>\n      <th>mean</th>\n      <td>54.434146</td>\n      <td>0.695610</td>\n      <td>0.942439</td>\n      <td>131.611707</td>\n      <td>246.00000</td>\n      <td>0.149268</td>\n      <td>0.529756</td>\n      <td>149.114146</td>\n      <td>0.336585</td>\n      <td>1.071512</td>\n      <td>1.385366</td>\n      <td>0.754146</td>\n      <td>2.323902</td>\n      <td>0.513171</td>\n    </tr>\n    <tr>\n      <th>std</th>\n      <td>9.072290</td>\n      <td>0.460373</td>\n      <td>1.029641</td>\n      <td>17.516718</td>\n      <td>51.59251</td>\n      <td>0.356527</td>\n      <td>0.527878</td>\n      <td>23.005724</td>\n      <td>0.472772</td>\n      <td>1.175053</td>\n      <td>0.617755</td>\n      <td>1.030798</td>\n      <td>0.620660</td>\n      <td>0.500070</td>\n    </tr>\n    <tr>\n      <th>min</th>\n      <td>29.000000</td>\n      <td>0.000000</td>\n      <td>0.000000</td>\n      <td>94.000000</td>\n      <td>126.00000</td>\n      <td>0.000000</td>\n      <td>0.000000</td>\n      <td>71.000000</td>\n      <td>0.000000</td>\n      <td>0.000000</td>\n      <td>0.000000</td>\n      <td>0.000000</td>\n      <td>0.000000</td>\n      <td>0.000000</td>\n    </tr>\n    <tr>\n      <th>25%</th>\n      <td>48.000000</td>\n      <td>0.000000</td>\n      <td>0.000000</td>\n      <td>120.000000</td>\n      <td>211.00000</td>\n      <td>0.000000</td>\n      <td>0.000000</td>\n      <td>132.000000</td>\n      <td>0.000000</td>\n      <td>0.000000</td>\n      <td>1.000000</td>\n      <td>0.000000</td>\n      <td>2.000000</td>\n      <td>0.000000</td>\n    </tr>\n    <tr>\n      <th>50%</th>\n      <td>56.000000</td>\n      <td>1.000000</td>\n      <td>1.000000</td>\n      <td>130.000000</td>\n      <td>240.00000</td>\n      <td>0.000000</td>\n      <td>1.000000</td>\n      <td>152.000000</td>\n      <td>0.000000</td>\n      <td>0.800000</td>\n      <td>1.000000</td>\n      <td>0.000000</td>\n      <td>2.000000</td>\n      <td>1.000000</td>\n    </tr>\n    <tr>\n      <th>75%</th>\n      <td>61.000000</td>\n      <td>1.000000</td>\n      <td>2.000000</td>\n      <td>140.000000</td>\n      <td>275.00000</td>\n      <td>0.000000</td>\n      <td>1.000000</td>\n      <td>166.000000</td>\n      <td>1.000000</td>\n      <td>1.800000</td>\n      <td>2.000000</td>\n      <td>1.000000</td>\n      <td>3.000000</td>\n      <td>1.000000</td>\n    </tr>\n    <tr>\n      <th>max</th>\n      <td>77.000000</td>\n      <td>1.000000</td>\n      <td>3.000000</td>\n      <td>200.000000</td>\n      <td>564.00000</td>\n      <td>1.000000</td>\n      <td>2.000000</td>\n      <td>202.000000</td>\n      <td>1.000000</td>\n      <td>6.200000</td>\n      <td>2.000000</td>\n      <td>4.000000</td>\n      <td>3.000000</td>\n      <td>1.000000</td>\n    </tr>\n  </tbody>\n</table>\n</div>"
     },
     "execution_count": 8,
     "metadata": {},
     "output_type": "execute_result"
    }
   ]
  },
  {
   "cell_type": "code",
   "source": [
    "# checking the distribution of Target Variable\n",
    "heart_data['target'].value_counts()"
   ],
   "metadata": {
    "colab": {
     "base_uri": "https://localhost:8080/"
    },
    "id": "L6dBbrh6A50K",
    "outputId": "1cd1c8df-0c55-46fa-b4b2-3afd0a45b6aa",
    "ExecuteTime": {
     "start_time": "2023-04-20T21:06:20.313769Z",
     "end_time": "2023-04-20T21:06:20.955326Z"
    }
   },
   "execution_count": 9,
   "outputs": [
    {
     "data": {
      "text/plain": "target\n1    526\n0    499\nName: count, dtype: int64"
     },
     "execution_count": 9,
     "metadata": {},
     "output_type": "execute_result"
    }
   ]
  },
  {
   "cell_type": "markdown",
   "source": [
    "1 --> Defective Heart\n",
    "\n",
    "0 --> Healthy Heart"
   ],
   "metadata": {
    "id": "TacuM_PgBBJH"
   }
  },
  {
   "cell_type": "markdown",
   "source": [
    "Splitting the Features and Target"
   ],
   "metadata": {
    "id": "kXXY8XcABKG2"
   }
  },
  {
   "cell_type": "code",
   "source": [
    "X = heart_data.drop(columns='target', axis=1)\n",
    "Y = heart_data['target']"
   ],
   "metadata": {
    "id": "k-qBotNEA59I",
    "ExecuteTime": {
     "start_time": "2023-04-20T21:06:20.314083Z",
     "end_time": "2023-04-20T21:06:20.955460Z"
    }
   },
   "execution_count": 10,
   "outputs": []
  },
  {
   "cell_type": "code",
   "source": [
    "print (X)"
   ],
   "metadata": {
    "colab": {
     "base_uri": "https://localhost:8080/"
    },
    "id": "jhhaJ-PjA6Bx",
    "outputId": "881f5d61-eb10-4373-c149-22c7014262e2",
    "ExecuteTime": {
     "start_time": "2023-04-20T21:06:20.356775Z",
     "end_time": "2023-04-20T21:06:21.033664Z"
    }
   },
   "execution_count": 11,
   "outputs": [
    {
     "name": "stdout",
     "output_type": "stream",
     "text": [
      "      age  sex  cp  trestbps  chol  fbs  restecg  thalach  exang  oldpeak   \n",
      "0      52    1   0       125   212    0        1      168      0      1.0  \\\n",
      "1      53    1   0       140   203    1        0      155      1      3.1   \n",
      "2      70    1   0       145   174    0        1      125      1      2.6   \n",
      "3      61    1   0       148   203    0        1      161      0      0.0   \n",
      "4      62    0   0       138   294    1        1      106      0      1.9   \n",
      "...   ...  ...  ..       ...   ...  ...      ...      ...    ...      ...   \n",
      "1020   59    1   1       140   221    0        1      164      1      0.0   \n",
      "1021   60    1   0       125   258    0        0      141      1      2.8   \n",
      "1022   47    1   0       110   275    0        0      118      1      1.0   \n",
      "1023   50    0   0       110   254    0        0      159      0      0.0   \n",
      "1024   54    1   0       120   188    0        1      113      0      1.4   \n",
      "\n",
      "      slope  ca  thal  \n",
      "0         2   2     3  \n",
      "1         0   0     3  \n",
      "2         0   0     3  \n",
      "3         2   1     3  \n",
      "4         1   3     2  \n",
      "...     ...  ..   ...  \n",
      "1020      2   0     2  \n",
      "1021      1   1     3  \n",
      "1022      1   1     2  \n",
      "1023      2   0     2  \n",
      "1024      1   1     3  \n",
      "\n",
      "[1025 rows x 13 columns]\n"
     ]
    }
   ]
  },
  {
   "cell_type": "code",
   "source": [
    "print (Y)"
   ],
   "metadata": {
    "colab": {
     "base_uri": "https://localhost:8080/"
    },
    "id": "NHFRO-5yA6FM",
    "outputId": "2f14e818-50c6-489b-cbc0-38db9e4ac726",
    "ExecuteTime": {
     "start_time": "2023-04-20T21:06:20.357047Z",
     "end_time": "2023-04-20T21:06:21.049345Z"
    }
   },
   "execution_count": 12,
   "outputs": [
    {
     "name": "stdout",
     "output_type": "stream",
     "text": [
      "0       0\n",
      "1       0\n",
      "2       0\n",
      "3       0\n",
      "4       0\n",
      "       ..\n",
      "1020    1\n",
      "1021    0\n",
      "1022    0\n",
      "1023    1\n",
      "1024    0\n",
      "Name: target, Length: 1025, dtype: int64\n"
     ]
    }
   ]
  },
  {
   "cell_type": "markdown",
   "source": [
    "Splitting the Data into Training data & Test Data"
   ],
   "metadata": {
    "id": "TMIfZW1fBsJu"
   }
  },
  {
   "cell_type": "code",
   "source": [
    "X_train, X_test, Y_train, Y_test = train_test_split(X.values, Y.values, test_size=0.2, stratify=Y, random_state=42)         #for Logistic Regression & Random Forest\n",
    "X_train2, X_test2, Y_train2, Y_test2 = train_test_split(X.values, Y.values, test_size=0.2, stratify=Y, random_state=42)     #for Decision Tree"
   ],
   "metadata": {
    "id": "zb9M5ZAdA6IP",
    "ExecuteTime": {
     "start_time": "2023-04-20T21:06:20.361724Z",
     "end_time": "2023-04-20T21:06:21.053435Z"
    }
   },
   "execution_count": 13,
   "outputs": []
  },
  {
   "cell_type": "code",
   "source": [
    "print(X.shape, X_train.shape, X_test.shape)\n",
    "print(X.shape, X_train2.shape,X_test2.shape)"
   ],
   "metadata": {
    "colab": {
     "base_uri": "https://localhost:8080/"
    },
    "id": "8xgXW9LHB4um",
    "outputId": "9cfad008-7c01-466b-b239-6e55ec907ef8",
    "ExecuteTime": {
     "start_time": "2023-04-20T21:06:20.403740Z",
     "end_time": "2023-04-20T21:06:21.054439Z"
    }
   },
   "execution_count": 14,
   "outputs": [
    {
     "name": "stdout",
     "output_type": "stream",
     "text": [
      "(1025, 13) (820, 13) (205, 13)\n",
      "(1025, 13) (820, 13) (205, 13)\n"
     ]
    }
   ]
  },
  {
   "cell_type": "markdown",
   "source": [
    "Model Training"
   ],
   "metadata": {
    "id": "Vz2r1Ye5CVac"
   }
  },
  {
   "cell_type": "markdown",
   "source": [
    " Logistic Regression"
   ],
   "metadata": {
    "id": "nAsKDH4BCVg6"
   }
  },
  {
   "cell_type": "code",
   "source": [
    "model = LogisticRegression(max_iter=1000)"
   ],
   "metadata": {
    "id": "C2gD7KaiB4wl",
    "ExecuteTime": {
     "start_time": "2023-04-20T21:06:20.403938Z",
     "end_time": "2023-04-20T21:06:21.054732Z"
    }
   },
   "execution_count": 15,
   "outputs": []
  },
  {
   "cell_type": "code",
   "source": [
    "# training the LogisticRegression model with Training data\n",
    "model.fit(X_train, Y_train)"
   ],
   "metadata": {
    "colab": {
     "base_uri": "https://localhost:8080/",
     "height": 213
    },
    "id": "hIDjOVoxB4zK",
    "outputId": "cedb7b11-9cdc-46ca-881c-89d1f4d4e0cd",
    "ExecuteTime": {
     "start_time": "2023-04-20T21:06:20.404099Z",
     "end_time": "2023-04-20T21:06:22.351502Z"
    }
   },
   "execution_count": 16,
   "outputs": [
    {
     "data": {
      "text/plain": "LogisticRegression(max_iter=1000)",
      "text/html": "<style>#sk-container-id-1 {color: black;background-color: white;}#sk-container-id-1 pre{padding: 0;}#sk-container-id-1 div.sk-toggleable {background-color: white;}#sk-container-id-1 label.sk-toggleable__label {cursor: pointer;display: block;width: 100%;margin-bottom: 0;padding: 0.3em;box-sizing: border-box;text-align: center;}#sk-container-id-1 label.sk-toggleable__label-arrow:before {content: \"▸\";float: left;margin-right: 0.25em;color: #696969;}#sk-container-id-1 label.sk-toggleable__label-arrow:hover:before {color: black;}#sk-container-id-1 div.sk-estimator:hover label.sk-toggleable__label-arrow:before {color: black;}#sk-container-id-1 div.sk-toggleable__content {max-height: 0;max-width: 0;overflow: hidden;text-align: left;background-color: #f0f8ff;}#sk-container-id-1 div.sk-toggleable__content pre {margin: 0.2em;color: black;border-radius: 0.25em;background-color: #f0f8ff;}#sk-container-id-1 input.sk-toggleable__control:checked~div.sk-toggleable__content {max-height: 200px;max-width: 100%;overflow: auto;}#sk-container-id-1 input.sk-toggleable__control:checked~label.sk-toggleable__label-arrow:before {content: \"▾\";}#sk-container-id-1 div.sk-estimator input.sk-toggleable__control:checked~label.sk-toggleable__label {background-color: #d4ebff;}#sk-container-id-1 div.sk-label input.sk-toggleable__control:checked~label.sk-toggleable__label {background-color: #d4ebff;}#sk-container-id-1 input.sk-hidden--visually {border: 0;clip: rect(1px 1px 1px 1px);clip: rect(1px, 1px, 1px, 1px);height: 1px;margin: -1px;overflow: hidden;padding: 0;position: absolute;width: 1px;}#sk-container-id-1 div.sk-estimator {font-family: monospace;background-color: #f0f8ff;border: 1px dotted black;border-radius: 0.25em;box-sizing: border-box;margin-bottom: 0.5em;}#sk-container-id-1 div.sk-estimator:hover {background-color: #d4ebff;}#sk-container-id-1 div.sk-parallel-item::after {content: \"\";width: 100%;border-bottom: 1px solid gray;flex-grow: 1;}#sk-container-id-1 div.sk-label:hover label.sk-toggleable__label {background-color: #d4ebff;}#sk-container-id-1 div.sk-serial::before {content: \"\";position: absolute;border-left: 1px solid gray;box-sizing: border-box;top: 0;bottom: 0;left: 50%;z-index: 0;}#sk-container-id-1 div.sk-serial {display: flex;flex-direction: column;align-items: center;background-color: white;padding-right: 0.2em;padding-left: 0.2em;position: relative;}#sk-container-id-1 div.sk-item {position: relative;z-index: 1;}#sk-container-id-1 div.sk-parallel {display: flex;align-items: stretch;justify-content: center;background-color: white;position: relative;}#sk-container-id-1 div.sk-item::before, #sk-container-id-1 div.sk-parallel-item::before {content: \"\";position: absolute;border-left: 1px solid gray;box-sizing: border-box;top: 0;bottom: 0;left: 50%;z-index: -1;}#sk-container-id-1 div.sk-parallel-item {display: flex;flex-direction: column;z-index: 1;position: relative;background-color: white;}#sk-container-id-1 div.sk-parallel-item:first-child::after {align-self: flex-end;width: 50%;}#sk-container-id-1 div.sk-parallel-item:last-child::after {align-self: flex-start;width: 50%;}#sk-container-id-1 div.sk-parallel-item:only-child::after {width: 0;}#sk-container-id-1 div.sk-dashed-wrapped {border: 1px dashed gray;margin: 0 0.4em 0.5em 0.4em;box-sizing: border-box;padding-bottom: 0.4em;background-color: white;}#sk-container-id-1 div.sk-label label {font-family: monospace;font-weight: bold;display: inline-block;line-height: 1.2em;}#sk-container-id-1 div.sk-label-container {text-align: center;}#sk-container-id-1 div.sk-container {/* jupyter's `normalize.less` sets `[hidden] { display: none; }` but bootstrap.min.css set `[hidden] { display: none !important; }` so we also need the `!important` here to be able to override the default hidden behavior on the sphinx rendered scikit-learn.org. See: https://github.com/scikit-learn/scikit-learn/issues/21755 */display: inline-block !important;position: relative;}#sk-container-id-1 div.sk-text-repr-fallback {display: none;}</style><div id=\"sk-container-id-1\" class=\"sk-top-container\"><div class=\"sk-text-repr-fallback\"><pre>LogisticRegression(max_iter=1000)</pre><b>In a Jupyter environment, please rerun this cell to show the HTML representation or trust the notebook. <br />On GitHub, the HTML representation is unable to render, please try loading this page with nbviewer.org.</b></div><div class=\"sk-container\" hidden><div class=\"sk-item\"><div class=\"sk-estimator sk-toggleable\"><input class=\"sk-toggleable__control sk-hidden--visually\" id=\"sk-estimator-id-1\" type=\"checkbox\" checked><label for=\"sk-estimator-id-1\" class=\"sk-toggleable__label sk-toggleable__label-arrow\">LogisticRegression</label><div class=\"sk-toggleable__content\"><pre>LogisticRegression(max_iter=1000)</pre></div></div></div></div></div>"
     },
     "execution_count": 16,
     "metadata": {},
     "output_type": "execute_result"
    }
   ]
  },
  {
   "cell_type": "code",
   "source": [
    "# accuracy on training data with LogisticRegression\n",
    "X_train_prediction = model.predict(X_train)\n",
    "training_data_accuracy = accuracy_score(X_train_prediction, Y_train)"
   ],
   "metadata": {
    "id": "Gje6ic0TCy9b",
    "ExecuteTime": {
     "start_time": "2023-04-20T21:06:22.213197Z",
     "end_time": "2023-04-20T21:06:22.351951Z"
    }
   },
   "execution_count": 17,
   "outputs": []
  },
  {
   "cell_type": "code",
   "source": [
    "print('Accuracy on Training data : ', training_data_accuracy*100)"
   ],
   "metadata": {
    "colab": {
     "base_uri": "https://localhost:8080/"
    },
    "id": "1IPy0777Cy3_",
    "outputId": "7cb410a3-049e-4dbf-ef35-879b7ea3c884",
    "ExecuteTime": {
     "start_time": "2023-04-20T21:06:22.230570Z",
     "end_time": "2023-04-20T21:06:22.352428Z"
    }
   },
   "execution_count": 18,
   "outputs": [
    {
     "name": "stdout",
     "output_type": "stream",
     "text": [
      "Accuracy on Training data :  84.8780487804878\n"
     ]
    }
   ]
  },
  {
   "cell_type": "code",
   "execution_count": 19,
   "outputs": [],
   "source": [
    "# accuracy on test data with LogisticRegression\n",
    "X_test_prediction = model.predict(X_test)\n",
    "testing_data_accuracy = accuracy_score(X_test_prediction, Y_test)"
   ],
   "metadata": {
    "collapsed": false,
    "ExecuteTime": {
     "start_time": "2023-04-20T21:06:22.273453Z",
     "end_time": "2023-04-20T21:06:22.352860Z"
    }
   }
  },
  {
   "cell_type": "code",
   "source": [
    "print('Accuracy on Test data : ', testing_data_accuracy*100)"
   ],
   "metadata": {
    "colab": {
     "base_uri": "https://localhost:8080/"
    },
    "id": "aa6u1v4BDXmi",
    "outputId": "d4d6d4fc-3154-4dd5-8236-80e2a18e66d5",
    "ExecuteTime": {
     "start_time": "2023-04-20T21:06:22.273610Z",
     "end_time": "2023-04-20T21:06:22.436647Z"
    }
   },
   "execution_count": 20,
   "outputs": [
    {
     "name": "stdout",
     "output_type": "stream",
     "text": [
      "Accuracy on Test data :  81.46341463414633\n"
     ]
    }
   ]
  },
  {
   "cell_type": "markdown",
   "source": [
    "By using Decision Tree\n"
   ],
   "metadata": {
    "id": "li9ZlDIbFt6J"
   }
  },
  {
   "cell_type": "code",
   "source": [
    "c = tree.DecisionTreeClassifier()"
   ],
   "metadata": {
    "id": "3rzh1dTR_Mvx",
    "ExecuteTime": {
     "start_time": "2023-04-20T21:06:22.316778Z",
     "end_time": "2023-04-20T21:06:22.436877Z"
    }
   },
   "execution_count": 21,
   "outputs": []
  },
  {
   "cell_type": "code",
   "source": [
    "# training the Decision Tree model with Training data\n",
    "c.fit(X_train, Y_train)"
   ],
   "metadata": {
    "colab": {
     "base_uri": "https://localhost:8080/",
     "height": 74
    },
    "id": "HmT66RvdspSP",
    "outputId": "86d64728-e5c0-4428-d44a-c215a1568122",
    "ExecuteTime": {
     "start_time": "2023-04-20T21:06:22.316950Z",
     "end_time": "2023-04-20T21:06:22.437540Z"
    }
   },
   "execution_count": 22,
   "outputs": [
    {
     "data": {
      "text/plain": "DecisionTreeClassifier()",
      "text/html": "<style>#sk-container-id-2 {color: black;background-color: white;}#sk-container-id-2 pre{padding: 0;}#sk-container-id-2 div.sk-toggleable {background-color: white;}#sk-container-id-2 label.sk-toggleable__label {cursor: pointer;display: block;width: 100%;margin-bottom: 0;padding: 0.3em;box-sizing: border-box;text-align: center;}#sk-container-id-2 label.sk-toggleable__label-arrow:before {content: \"▸\";float: left;margin-right: 0.25em;color: #696969;}#sk-container-id-2 label.sk-toggleable__label-arrow:hover:before {color: black;}#sk-container-id-2 div.sk-estimator:hover label.sk-toggleable__label-arrow:before {color: black;}#sk-container-id-2 div.sk-toggleable__content {max-height: 0;max-width: 0;overflow: hidden;text-align: left;background-color: #f0f8ff;}#sk-container-id-2 div.sk-toggleable__content pre {margin: 0.2em;color: black;border-radius: 0.25em;background-color: #f0f8ff;}#sk-container-id-2 input.sk-toggleable__control:checked~div.sk-toggleable__content {max-height: 200px;max-width: 100%;overflow: auto;}#sk-container-id-2 input.sk-toggleable__control:checked~label.sk-toggleable__label-arrow:before {content: \"▾\";}#sk-container-id-2 div.sk-estimator input.sk-toggleable__control:checked~label.sk-toggleable__label {background-color: #d4ebff;}#sk-container-id-2 div.sk-label input.sk-toggleable__control:checked~label.sk-toggleable__label {background-color: #d4ebff;}#sk-container-id-2 input.sk-hidden--visually {border: 0;clip: rect(1px 1px 1px 1px);clip: rect(1px, 1px, 1px, 1px);height: 1px;margin: -1px;overflow: hidden;padding: 0;position: absolute;width: 1px;}#sk-container-id-2 div.sk-estimator {font-family: monospace;background-color: #f0f8ff;border: 1px dotted black;border-radius: 0.25em;box-sizing: border-box;margin-bottom: 0.5em;}#sk-container-id-2 div.sk-estimator:hover {background-color: #d4ebff;}#sk-container-id-2 div.sk-parallel-item::after {content: \"\";width: 100%;border-bottom: 1px solid gray;flex-grow: 1;}#sk-container-id-2 div.sk-label:hover label.sk-toggleable__label {background-color: #d4ebff;}#sk-container-id-2 div.sk-serial::before {content: \"\";position: absolute;border-left: 1px solid gray;box-sizing: border-box;top: 0;bottom: 0;left: 50%;z-index: 0;}#sk-container-id-2 div.sk-serial {display: flex;flex-direction: column;align-items: center;background-color: white;padding-right: 0.2em;padding-left: 0.2em;position: relative;}#sk-container-id-2 div.sk-item {position: relative;z-index: 1;}#sk-container-id-2 div.sk-parallel {display: flex;align-items: stretch;justify-content: center;background-color: white;position: relative;}#sk-container-id-2 div.sk-item::before, #sk-container-id-2 div.sk-parallel-item::before {content: \"\";position: absolute;border-left: 1px solid gray;box-sizing: border-box;top: 0;bottom: 0;left: 50%;z-index: -1;}#sk-container-id-2 div.sk-parallel-item {display: flex;flex-direction: column;z-index: 1;position: relative;background-color: white;}#sk-container-id-2 div.sk-parallel-item:first-child::after {align-self: flex-end;width: 50%;}#sk-container-id-2 div.sk-parallel-item:last-child::after {align-self: flex-start;width: 50%;}#sk-container-id-2 div.sk-parallel-item:only-child::after {width: 0;}#sk-container-id-2 div.sk-dashed-wrapped {border: 1px dashed gray;margin: 0 0.4em 0.5em 0.4em;box-sizing: border-box;padding-bottom: 0.4em;background-color: white;}#sk-container-id-2 div.sk-label label {font-family: monospace;font-weight: bold;display: inline-block;line-height: 1.2em;}#sk-container-id-2 div.sk-label-container {text-align: center;}#sk-container-id-2 div.sk-container {/* jupyter's `normalize.less` sets `[hidden] { display: none; }` but bootstrap.min.css set `[hidden] { display: none !important; }` so we also need the `!important` here to be able to override the default hidden behavior on the sphinx rendered scikit-learn.org. See: https://github.com/scikit-learn/scikit-learn/issues/21755 */display: inline-block !important;position: relative;}#sk-container-id-2 div.sk-text-repr-fallback {display: none;}</style><div id=\"sk-container-id-2\" class=\"sk-top-container\"><div class=\"sk-text-repr-fallback\"><pre>DecisionTreeClassifier()</pre><b>In a Jupyter environment, please rerun this cell to show the HTML representation or trust the notebook. <br />On GitHub, the HTML representation is unable to render, please try loading this page with nbviewer.org.</b></div><div class=\"sk-container\" hidden><div class=\"sk-item\"><div class=\"sk-estimator sk-toggleable\"><input class=\"sk-toggleable__control sk-hidden--visually\" id=\"sk-estimator-id-2\" type=\"checkbox\" checked><label for=\"sk-estimator-id-2\" class=\"sk-toggleable__label sk-toggleable__label-arrow\">DecisionTreeClassifier</label><div class=\"sk-toggleable__content\"><pre>DecisionTreeClassifier()</pre></div></div></div></div></div>"
     },
     "execution_count": 22,
     "metadata": {},
     "output_type": "execute_result"
    }
   ]
  },
  {
   "cell_type": "code",
   "source": [
    "# accuracy on training data with Decision Tree\n",
    "X_train_prediction2 = c.predict(X_train2)\n",
    "training_data_accuracy2= accuracy_score(X_train_prediction2, Y_train2)"
   ],
   "metadata": {
    "id": "JdkXU8Z2s7qn",
    "ExecuteTime": {
     "start_time": "2023-04-20T21:06:22.337099Z",
     "end_time": "2023-04-20T21:06:22.448348Z"
    }
   },
   "execution_count": 23,
   "outputs": []
  },
  {
   "cell_type": "code",
   "source": [
    "print('Accuracy on Training data : ', training_data_accuracy2*100)"
   ],
   "metadata": {
    "colab": {
     "base_uri": "https://localhost:8080/"
    },
    "id": "G39y1GITtS12",
    "outputId": "2b06c8eb-6e99-4f66-81a3-4b7fb8028c57",
    "ExecuteTime": {
     "start_time": "2023-04-20T21:06:22.349022Z",
     "end_time": "2023-04-20T21:06:22.481658Z"
    }
   },
   "execution_count": 24,
   "outputs": [
    {
     "name": "stdout",
     "output_type": "stream",
     "text": [
      "Accuracy on Training data :  100.0\n"
     ]
    }
   ]
  },
  {
   "cell_type": "code",
   "source": [
    "# accuracy on test data with Decision Tree\n",
    "X_test_prediction2 =c.predict(X_test2)\n",
    "testing_data_accuracy2= accuracy_score(X_test_prediction2, Y_test2)"
   ],
   "metadata": {
    "id": "CWNOSVC3tWe1",
    "ExecuteTime": {
     "start_time": "2023-04-20T21:06:22.360767Z",
     "end_time": "2023-04-20T21:06:22.617019Z"
    }
   },
   "execution_count": 25,
   "outputs": []
  },
  {
   "cell_type": "code",
   "source": [
    "print('Accuracy on Test data : ', testing_data_accuracy2 *100)"
   ],
   "metadata": {
    "colab": {
     "base_uri": "https://localhost:8080/"
    },
    "id": "2wmyqqKeuGVv",
    "outputId": "9a56bf71-f69d-4f86-afcb-4c3d2a486c0a",
    "ExecuteTime": {
     "start_time": "2023-04-20T21:06:22.376866Z",
     "end_time": "2023-04-20T21:06:22.619462Z"
    }
   },
   "execution_count": 26,
   "outputs": [
    {
     "name": "stdout",
     "output_type": "stream",
     "text": [
      "Accuracy on Test data :  98.53658536585365\n"
     ]
    }
   ]
  },
  {
   "cell_type": "markdown",
   "source": [
    " By using Random Forest"
   ],
   "metadata": {
    "id": "IDWjWFbPNxcd"
   }
  },
  {
   "cell_type": "code",
   "source": [
    "b = RandomForestClassifier()"
   ],
   "metadata": {
    "id": "JIP7puxTJZIe",
    "ExecuteTime": {
     "start_time": "2023-04-20T21:06:22.420323Z",
     "end_time": "2023-04-20T21:06:22.619988Z"
    }
   },
   "execution_count": 27,
   "outputs": []
  },
  {
   "cell_type": "code",
   "source": [
    "b.fit(X_train,Y_train)"
   ],
   "metadata": {
    "colab": {
     "base_uri": "https://localhost:8080/",
     "height": 74
    },
    "id": "t6RQ4AHDMDeO",
    "outputId": "cb4b9aff-daf9-4d81-8ccd-215da44ab37d",
    "ExecuteTime": {
     "start_time": "2023-04-20T21:06:22.463453Z",
     "end_time": "2023-04-20T21:06:22.844999Z"
    }
   },
   "execution_count": 28,
   "outputs": [
    {
     "data": {
      "text/plain": "RandomForestClassifier()",
      "text/html": "<style>#sk-container-id-3 {color: black;background-color: white;}#sk-container-id-3 pre{padding: 0;}#sk-container-id-3 div.sk-toggleable {background-color: white;}#sk-container-id-3 label.sk-toggleable__label {cursor: pointer;display: block;width: 100%;margin-bottom: 0;padding: 0.3em;box-sizing: border-box;text-align: center;}#sk-container-id-3 label.sk-toggleable__label-arrow:before {content: \"▸\";float: left;margin-right: 0.25em;color: #696969;}#sk-container-id-3 label.sk-toggleable__label-arrow:hover:before {color: black;}#sk-container-id-3 div.sk-estimator:hover label.sk-toggleable__label-arrow:before {color: black;}#sk-container-id-3 div.sk-toggleable__content {max-height: 0;max-width: 0;overflow: hidden;text-align: left;background-color: #f0f8ff;}#sk-container-id-3 div.sk-toggleable__content pre {margin: 0.2em;color: black;border-radius: 0.25em;background-color: #f0f8ff;}#sk-container-id-3 input.sk-toggleable__control:checked~div.sk-toggleable__content {max-height: 200px;max-width: 100%;overflow: auto;}#sk-container-id-3 input.sk-toggleable__control:checked~label.sk-toggleable__label-arrow:before {content: \"▾\";}#sk-container-id-3 div.sk-estimator input.sk-toggleable__control:checked~label.sk-toggleable__label {background-color: #d4ebff;}#sk-container-id-3 div.sk-label input.sk-toggleable__control:checked~label.sk-toggleable__label {background-color: #d4ebff;}#sk-container-id-3 input.sk-hidden--visually {border: 0;clip: rect(1px 1px 1px 1px);clip: rect(1px, 1px, 1px, 1px);height: 1px;margin: -1px;overflow: hidden;padding: 0;position: absolute;width: 1px;}#sk-container-id-3 div.sk-estimator {font-family: monospace;background-color: #f0f8ff;border: 1px dotted black;border-radius: 0.25em;box-sizing: border-box;margin-bottom: 0.5em;}#sk-container-id-3 div.sk-estimator:hover {background-color: #d4ebff;}#sk-container-id-3 div.sk-parallel-item::after {content: \"\";width: 100%;border-bottom: 1px solid gray;flex-grow: 1;}#sk-container-id-3 div.sk-label:hover label.sk-toggleable__label {background-color: #d4ebff;}#sk-container-id-3 div.sk-serial::before {content: \"\";position: absolute;border-left: 1px solid gray;box-sizing: border-box;top: 0;bottom: 0;left: 50%;z-index: 0;}#sk-container-id-3 div.sk-serial {display: flex;flex-direction: column;align-items: center;background-color: white;padding-right: 0.2em;padding-left: 0.2em;position: relative;}#sk-container-id-3 div.sk-item {position: relative;z-index: 1;}#sk-container-id-3 div.sk-parallel {display: flex;align-items: stretch;justify-content: center;background-color: white;position: relative;}#sk-container-id-3 div.sk-item::before, #sk-container-id-3 div.sk-parallel-item::before {content: \"\";position: absolute;border-left: 1px solid gray;box-sizing: border-box;top: 0;bottom: 0;left: 50%;z-index: -1;}#sk-container-id-3 div.sk-parallel-item {display: flex;flex-direction: column;z-index: 1;position: relative;background-color: white;}#sk-container-id-3 div.sk-parallel-item:first-child::after {align-self: flex-end;width: 50%;}#sk-container-id-3 div.sk-parallel-item:last-child::after {align-self: flex-start;width: 50%;}#sk-container-id-3 div.sk-parallel-item:only-child::after {width: 0;}#sk-container-id-3 div.sk-dashed-wrapped {border: 1px dashed gray;margin: 0 0.4em 0.5em 0.4em;box-sizing: border-box;padding-bottom: 0.4em;background-color: white;}#sk-container-id-3 div.sk-label label {font-family: monospace;font-weight: bold;display: inline-block;line-height: 1.2em;}#sk-container-id-3 div.sk-label-container {text-align: center;}#sk-container-id-3 div.sk-container {/* jupyter's `normalize.less` sets `[hidden] { display: none; }` but bootstrap.min.css set `[hidden] { display: none !important; }` so we also need the `!important` here to be able to override the default hidden behavior on the sphinx rendered scikit-learn.org. See: https://github.com/scikit-learn/scikit-learn/issues/21755 */display: inline-block !important;position: relative;}#sk-container-id-3 div.sk-text-repr-fallback {display: none;}</style><div id=\"sk-container-id-3\" class=\"sk-top-container\"><div class=\"sk-text-repr-fallback\"><pre>RandomForestClassifier()</pre><b>In a Jupyter environment, please rerun this cell to show the HTML representation or trust the notebook. <br />On GitHub, the HTML representation is unable to render, please try loading this page with nbviewer.org.</b></div><div class=\"sk-container\" hidden><div class=\"sk-item\"><div class=\"sk-estimator sk-toggleable\"><input class=\"sk-toggleable__control sk-hidden--visually\" id=\"sk-estimator-id-3\" type=\"checkbox\" checked><label for=\"sk-estimator-id-3\" class=\"sk-toggleable__label sk-toggleable__label-arrow\">RandomForestClassifier</label><div class=\"sk-toggleable__content\"><pre>RandomForestClassifier()</pre></div></div></div></div></div>"
     },
     "execution_count": 28,
     "metadata": {},
     "output_type": "execute_result"
    }
   ]
  },
  {
   "cell_type": "code",
   "source": [
    "# accuracy on training data with Random Forest\n",
    "X_train_prediction3 = b.predict(X_train)\n",
    "training_data_accuracy3= accuracy_score(X_train_prediction3, Y_train)"
   ],
   "metadata": {
    "id": "Vhcn2UaMKtHB",
    "ExecuteTime": {
     "start_time": "2023-04-20T21:06:22.845345Z",
     "end_time": "2023-04-20T21:06:22.901560Z"
    }
   },
   "execution_count": 29,
   "outputs": []
  },
  {
   "cell_type": "code",
   "source": [
    "print('Accuracy on Training data : ', training_data_accuracy3*100)"
   ],
   "metadata": {
    "colab": {
     "base_uri": "https://localhost:8080/"
    },
    "id": "gB-DVSkoMfC1",
    "outputId": "b2b7c7d3-4569-4795-fba3-31f9ba218f35",
    "ExecuteTime": {
     "start_time": "2023-04-20T21:06:22.884028Z",
     "end_time": "2023-04-20T21:06:22.903258Z"
    }
   },
   "execution_count": 30,
   "outputs": [
    {
     "name": "stdout",
     "output_type": "stream",
     "text": [
      "Accuracy on Training data :  100.0\n"
     ]
    }
   ]
  },
  {
   "cell_type": "code",
   "source": [
    "# accuracy on testing data with Random Forest\n",
    "X_test_prediction3=b.predict(X_test)\n",
    "testing_data_accuracy3= accuracy_score(X_test_prediction, Y_test)"
   ],
   "metadata": {
    "id": "cw8iywbMMfMl",
    "ExecuteTime": {
     "start_time": "2023-04-20T21:06:22.900839Z",
     "end_time": "2023-04-20T21:06:22.968777Z"
    }
   },
   "execution_count": 31,
   "outputs": []
  },
  {
   "cell_type": "code",
   "source": [
    "print('Accuracy on Test data : ', training_data_accuracy3*100)"
   ],
   "metadata": {
    "colab": {
     "base_uri": "https://localhost:8080/"
    },
    "id": "5toBK42MMfS8",
    "outputId": "1b58a84a-73c8-4438-dab7-fc16da7a2fdb",
    "ExecuteTime": {
     "start_time": "2023-04-20T21:06:22.946858Z",
     "end_time": "2023-04-20T21:06:23.035599Z"
    }
   },
   "execution_count": 32,
   "outputs": [
    {
     "name": "stdout",
     "output_type": "stream",
     "text": [
      "Accuracy on Test data :  100.0\n"
     ]
    }
   ]
  },
  {
   "cell_type": "markdown",
   "source": [
    "Building a Predictive System"
   ],
   "metadata": {
    "id": "188_BC7hDewj"
   }
  },
  {
   "cell_type": "code",
   "source": [
    "input_data = (48,1,1,110,229,0,1,168,0,1,0,0,3)\n",
    "\n",
    "# change the input data to a numpy array\n",
    "input_data_as_numpy_array= np.asarray(input_data)\n",
    "\n",
    "# reshape the numpy array as we are predicting for only on instance\n",
    "input_data_reshaped = input_data_as_numpy_array.reshape(1,-1)\n",
    "\n",
    "prediction1 = model.predict(input_data_reshaped)\n",
    "print(prediction1)\n",
    "\n",
    "if prediction1[0]== 0:\n",
    "  print('The Person does not have a Heart Disease according to Logistic Regression')\n",
    "else:\n",
    "  print('The Person has Heart Disease according to Logistic Regression')\n",
    "\n",
    "prediction2 = c.predict(input_data_reshaped)\n",
    "print(prediction2)\n",
    "\n",
    "if prediction2[0]== 0:\n",
    "  print('The Person does not have a Heart Disease according to according to Decision Tree ')\n",
    "else:\n",
    "  print('The Person has Heart Disease according to according to Decision Tree')"
   ],
   "metadata": {
    "id": "FNeJ2IDwDflL",
    "outputId": "53691aba-d973-4ec3-9ef3-34c440ab90d8",
    "colab": {
     "base_uri": "https://localhost:8080/"
    },
    "ExecuteTime": {
     "start_time": "2023-04-20T21:06:22.990139Z",
     "end_time": "2023-04-20T21:06:23.036203Z"
    }
   },
   "execution_count": 33,
   "outputs": [
    {
     "name": "stdout",
     "output_type": "stream",
     "text": [
      "[1]\n",
      "The Person has Heart Disease according to Logistic Regression\n",
      "[0]\n",
      "The Person does not have a Heart Disease according to according to Decision Tree \n"
     ]
    }
   ]
  }
 ]
}
